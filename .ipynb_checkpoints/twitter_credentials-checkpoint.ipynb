{
 "cells": [
  {
   "cell_type": "code",
   "execution_count": null,
   "metadata": {},
   "outputs": [],
   "source": [
    "#Variables that contain the user credentials to access Twitter API\n",
    "ACCESS_TOKEN = \"359234637-XtKO7F5PpgBQyXfMoUmm2zXjPdtuOimlaAmW1vWa\"\n",
    "ACCESS_TOKEN_SECRET = \"2WbwxLQehuKvfppFfej3ueVuv67ofK3XWeb6dK17Eb3Ji\"\n",
    "CONSUMER_KEY = \"EUvRpO2MHrWTHdGX6SrPUp6ca \"\n",
    "CONSUMER_SECRET = \"QKqCKPOcTQHEhfl24JpfDLiK3zmhQRq85DnKiB85Yq4WUfX0Y8\""
   ]
  }
 ],
 "metadata": {
  "kernelspec": {
   "display_name": "Python 3",
   "language": "python",
   "name": "python3"
  },
  "language_info": {
   "codemirror_mode": {
    "name": "ipython",
    "version": 3
   },
   "file_extension": ".py",
   "mimetype": "text/x-python",
   "name": "python",
   "nbconvert_exporter": "python",
   "pygments_lexer": "ipython3",
   "version": "3.7.1"
  }
 },
 "nbformat": 4,
 "nbformat_minor": 2
}
